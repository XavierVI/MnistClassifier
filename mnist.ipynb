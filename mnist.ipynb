{
 "cells": [
  {
   "cell_type": "code",
   "execution_count": 4,
   "metadata": {},
   "outputs": [],
   "source": [
    "import torch\n",
    "from torch import nn\n",
    "import torchvision.datasets as datasets \n",
    "from torchvision.transforms import ToTensor\n",
    "from torch.utils.data import DataLoader\n",
    "\n",
    "import matplotlib.pyplot as plt\n",
    "\n",
    "from model import *"
   ]
  },
  {
   "cell_type": "markdown",
   "metadata": {},
   "source": [
    "Download/loading the dataset"
   ]
  },
  {
   "cell_type": "code",
   "execution_count": 5,
   "metadata": {},
   "outputs": [],
   "source": [
    "training_data = datasets.MNIST(root='data', download=True, train=True, transform=ToTensor())\n",
    "testing_data = datasets.MNIST(root='data', download=True, train=False, transform=ToTensor())\n",
    "\n",
    "training_loader = DataLoader(training_data, batch_size=64, shuffle=True)\n",
    "testing_loader = DataLoader(testing_data, batch_size=64, shuffle=True)"
   ]
  },
  {
   "cell_type": "markdown",
   "metadata": {},
   "source": [
    "Displaying a few sample images"
   ]
  },
  {
   "cell_type": "code",
   "execution_count": 6,
   "metadata": {},
   "outputs": [
    {
     "data": {
      "image/png": "[encoded data removed]",
      "text/plain": [
       "<Figure size 800x800 with 9 Axes>"
      ]
     },
     "metadata": {},
     "output_type": "display_data"
    }
   ],
   "source": [
    "figure = plt.figure(figsize = (8,8))\n",
    "rows, cols = 3, 3\n",
    "\n",
    "for i in range(1, cols*rows+1):\n",
    "  sample_idx = torch.randint(len(training_data), size=(1,)).item()\n",
    "  img, label = training_data[sample_idx]\n",
    "  figure.add_subplot(rows, cols, i)\n",
    "  plt.title(label)\n",
    "  plt.axis(\"off\")\n",
    "  plt.imshow(img.squeeze(), cmap=\"gray\")"
   ]
  },
  {
   "cell_type": "markdown",
   "metadata": {},
   "source": [
    "## Training the neural network"
   ]
  },
  {
   "cell_type": "code",
   "execution_count": 7,
   "metadata": {},
   "outputs": [],
   "source": [
    "device = (    \n",
    "    \"cuda\"\n",
    "    if torch.cuda.is_available()\n",
    "    else \"mps\"\n",
    "    if torch.backends.mps.is_available()\n",
    "    else \"cpu\"\n",
    "  )"
   ]
  },
  {
   "cell_type": "markdown",
   "metadata": {},
   "source": [
    "Getting a random sample and making a prediction before training"
   ]
  },
  {
   "cell_type": "code",
   "execution_count": 8,
   "metadata": {},
   "outputs": [
    {
     "data": {
      "text/plain": [
       "<matplotlib.image.AxesImage at 0x1e466dc0260>"
      ]
     },
     "execution_count": 8,
     "metadata": {},
     "output_type": "execute_result"
    },
    {
     "data": {
      "image/png": "[encoded data removed]",
      "text/plain": [
       "<Figure size 640x480 with 1 Axes>"
      ]
     },
     "metadata": {},
     "output_type": "display_data"
    }
   ],
   "source": [
    "sample_idx = torch.randint(len(training_data), size=(1,)).item()\n",
    "img, label = training_data[sample_idx]\n",
    "plt.imshow(img.squeeze(), cmap=\"gray\")"
   ]
  },
  {
   "cell_type": "code",
   "execution_count": 9,
   "metadata": {},
   "outputs": [
    {
     "name": "stdout",
     "output_type": "stream",
     "text": [
      "Prediction:  tensor([4])\n",
      "Actual:  9\n"
     ]
    }
   ],
   "source": [
    "model = MnistClassifier().to(device)\n",
    "\n",
    "output = model(img)\n",
    "pred_probab = nn.Softmax(dim=1)(output)\n",
    "y_pred = pred_probab.argmax(1)\n",
    "print(\"Prediction: \", y_pred)\n",
    "print(\"Actual: \",label)"
   ]
  },
  {
   "cell_type": "markdown",
   "metadata": {},
   "source": [
    "Trying to add ReLU to introduce non-linearity"
   ]
  },
  {
   "cell_type": "code",
   "execution_count": 10,
   "metadata": {},
   "outputs": [
    {
     "name": "stdout",
     "output_type": "stream",
     "text": [
      "Prediction:  tensor([4])\n",
      "Actual:  9\n"
     ]
    }
   ],
   "source": [
    "non_linear_model = NonLinearClassifier().to(device)\n",
    "\n",
    "output = non_linear_model(img)\n",
    "pred_probab = nn.Softmax(dim=1)(output)\n",
    "y_pred = pred_probab.argmax(1)\n",
    "print(\"Prediction: \", y_pred)\n",
    "print(\"Actual: \",label)"
   ]
  },
  {
   "cell_type": "markdown",
   "metadata": {},
   "source": [
    "Comparing both models for 50 images"
   ]
  },
  {
   "cell_type": "code",
   "execution_count": 11,
   "metadata": {},
   "outputs": [
    {
     "name": "stdout",
     "output_type": "stream",
     "text": [
      "Linear Accuracy:  5\n",
      "Non Linear Accuracy:  5\n"
     ]
    }
   ],
   "source": [
    "linear_accuracy = 0\n",
    "non_linear_accuracy = 0\n",
    "\n",
    "for i in range(0, 50):\n",
    "  sample_idx = torch.randint(len(training_data), size=(1,)).item()\n",
    "  img, label = training_data[sample_idx]\n",
    "  output = model(img)\n",
    "  pred_probab = nn.Softmax(dim=1)(output)\n",
    "  y_pred = pred_probab.argmax(1)\n",
    "  if y_pred == label:\n",
    "    linear_accuracy += 1\n",
    "\n",
    "  output = non_linear_model(img)\n",
    "  pred_probab = nn.Softmax(dim=1)(output)\n",
    "  y_pred = pred_probab.argmax(1)\n",
    "  if y_pred == label:\n",
    "    non_linear_accuracy += 1\n",
    "\n",
    "print(\"Linear Accuracy: \", linear_accuracy)\n",
    "print(\"Non Linear Accuracy: \", non_linear_accuracy)"
   ]
  },
  {
   "cell_type": "code",
   "execution_count": 12,
   "metadata": {},
   "outputs": [],
   "source": [
    "optimizer = torch.optim.SGD(model.parameters(), lr=0.001)\n",
    "loss_fn = nn.CrossEntropyLoss()"
   ]
  },
  {
   "cell_type": "code",
   "execution_count": 16,
   "metadata": {},
   "outputs": [],
   "source": [
    "def train_one_epoch(epoch_index):\n",
    "  running_loss = 0\n",
    "  last_loss = 0\n",
    "\n",
    "  for i, data in enumerate(training_loader):\n",
    "    inputs, labels = data\n",
    "    \n",
    "    # zero gradients\n",
    "    optimizer.zero_grad()\n",
    "    \n",
    "    # compute the prediction\n",
    "    outputs = model(inputs)\n",
    "    \n",
    "    # compute the loss and its gradients\n",
    "    loss = loss_fn(outputs, labels)\n",
    "    loss.backward()\n",
    "\n",
    "    # update the weights\n",
    "    optimizer.step()\n",
    "\n",
    "    # gather data and report\n",
    "    running_loss += loss.item()\n",
    "    if i % 1000 == 999:\n",
    "      last_loss = running_loss / 1000 # loss per batch\n",
    "      last_loss = running_loss / 1000 # loss per batch\n",
    "      print('  batch {} loss: {}'.format(i + 1, last_loss))\n",
    "      # tb_x = epoch_index * len(training_loader) + i + 1\n",
    "      # tb_writer.add_scalar('Loss/train', last_loss, tb_x)\n",
    "      running_loss = 0.\n",
    "  return last_loss\n",
    "    "
   ]
  },
  {
   "cell_type": "code",
   "execution_count": 18,
   "metadata": {},
   "outputs": [
    {
     "name": "stdout",
     "output_type": "stream",
     "text": [
      "EPOCH 1:\n",
      "LOSS train 0 valid 1.983933925628662\n",
      "EPOCH 2:\n",
      "LOSS train 0 valid 1.7020421028137207\n",
      "EPOCH 3:\n",
      "LOSS train 0 valid 1.37391996383667\n",
      "EPOCH 4:\n"
     ]
    }
   ],
   "source": [
    "# Initializing in a separate cell so we can easily add more epochs to the same run\n",
    "import datetime\n",
    "\n",
    "\n",
    "# timestamp = datetime.now().strftime('%Y%m%d_%H%M%S')\n",
    "# TensorBoard\n",
    "# writer = SummaryWriter('runs/fashion_trainer_{}'.format(timestamp))\n",
    "epoch_number = 0\n",
    "\n",
    "EPOCHS = 5\n",
    "\n",
    "best_vloss = 1_000_000.\n",
    "\n",
    "for epoch in range(EPOCHS):\n",
    "  print('EPOCH {}:'.format(epoch_number + 1))\n",
    "\n",
    "  # Make sure gradient tracking is on, and do a pass over the data\n",
    "  model.train(True)\n",
    "  avg_loss = train_one_epoch(epoch_number)\n",
    "\n",
    "\n",
    "  running_vloss = 0.0\n",
    "  # Set the model to evaluation mode, disabling dropout and using population\n",
    "  # statistics for batch normalization.\n",
    "  model.eval()\n",
    "\n",
    "  # Disable gradient computation and reduce memory consumption.\n",
    "  with torch.no_grad():\n",
    "    for i, vdata in enumerate(testing_loader):\n",
    "      vinputs, vlabels = vdata\n",
    "      voutputs = model(vinputs)\n",
    "      vloss = loss_fn(voutputs, vlabels)\n",
    "      running_vloss += vloss\n",
    "\n",
    "  avg_vloss = running_vloss / (i + 1)\n",
    "  print('LOSS train {} valid {}'.format(avg_loss, avg_vloss))\n",
    "\n",
    "  # Log the running loss averaged per batch\n",
    "  # for both training and validation\n",
    "  # writer.add_scalars('Training vs. Validation Loss',\n",
    "  #                   { 'Training' : avg_loss, 'Validation' : avg_vloss },\n",
    "  #                   epoch_number + 1)\n",
    "  # writer.flush()\n",
    "\n",
    "  # Track best performance, and save the model's state\n",
    "  if avg_vloss < best_vloss:\n",
    "    best_vloss = avg_vloss\n",
    "    model_path = 'model_{}'.format(epoch_number)\n",
    "    torch.save(model.state_dict(), model_path)\n",
    "\n",
    "  epoch_number += 1"
   ]
  },
  {
   "cell_type": "markdown",
   "metadata": {},
   "source": [
    "## Testing model"
   ]
  },
  {
   "cell_type": "markdown",
   "metadata": {},
   "source": []
  }
 ],
 "metadata": {
  "kernelspec": {
   "display_name": "mnist",
   "language": "python",
   "name": "python3"
  },
  "language_info": {
   "codemirror_mode": {
    "name": "ipython",
    "version": 3
   },
   "file_extension": ".py",
   "mimetype": "text/x-python",
   "name": "python",
   "nbconvert_exporter": "python",
   "pygments_lexer": "ipython3",
   "version": "3.12.3"
  }
 },
 "nbformat": 4,
 "nbformat_minor": 2
}
