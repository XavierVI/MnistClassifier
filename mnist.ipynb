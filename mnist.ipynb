{
 "cells": [
  {
   "cell_type": "code",
   "execution_count": 1,
   "metadata": {},
   "outputs": [],
   "source": [
    "import torch\n",
    "from torch import nn\n",
    "import torchvision.datasets as datasets \n",
    "from torchvision.transforms import ToTensor\n",
    "from torch.utils.data import DataLoader\n",
    "\n",
    "import matplotlib.pyplot as plt\n",
    "\n",
    "from model import *"
   ]
  },
  {
   "cell_type": "markdown",
   "metadata": {},
   "source": [
    "Download/loading the dataset"
   ]
  },
  {
   "cell_type": "code",
   "execution_count": 2,
   "metadata": {},
   "outputs": [],
   "source": [
    "training_data = datasets.MNIST(root='data', download=True, train=True, transform=ToTensor())\n",
    "testing_data = datasets.MNIST(root='data', download=True, train=False, transform=ToTensor())\n",
    "\n",
    "training_loader = DataLoader(training_data, batch_size=64, shuffle=True)\n",
    "testing_loader = DataLoader(testing_data, batch_size=64, shuffle=True)"
   ]
  },
  {
   "cell_type": "markdown",
   "metadata": {},
   "source": [
    "Displaying a few sample images"
   ]
  },
  {
   "cell_type": "code",
   "execution_count": 3,
   "metadata": {},
   "outputs": [
    {
     "data": {
      "image/png": "[encoded data removed]",
      "text/plain": [
       "<Figure size 800x800 with 9 Axes>"
      ]
     },
     "metadata": {},
     "output_type": "display_data"
    }
   ],
   "source": [
    "figure = plt.figure(figsize = (8,8))\n",
    "rows, cols = 3, 3\n",
    "\n",
    "for i in range(1, cols*rows+1):\n",
    "  sample_idx = torch.randint(len(training_data), size=(1,)).item()\n",
    "  img, label = training_data[sample_idx]\n",
    "  figure.add_subplot(rows, cols, i)\n",
    "  plt.title(label)\n",
    "  plt.axis(\"off\")\n",
    "  plt.imshow(img.squeeze(), cmap=\"gray\")"
   ]
  },
  {
   "cell_type": "markdown",
   "metadata": {},
   "source": [
    "## Training the neural network"
   ]
  },
  {
   "cell_type": "code",
   "execution_count": 4,
   "metadata": {},
   "outputs": [],
   "source": [
    "device = (    \n",
    "    \"cuda\"\n",
    "    if torch.cuda.is_available()\n",
    "    else \"mps\"\n",
    "    if torch.backends.mps.is_available()\n",
    "    else \"cpu\"\n",
    "  )"
   ]
  },
  {
   "cell_type": "markdown",
   "metadata": {},
   "source": [
    "Getting a random sample and making a prediction before training"
   ]
  },
  {
   "cell_type": "code",
   "execution_count": 5,
   "metadata": {},
   "outputs": [
    {
     "data": {
      "text/plain": [
       "<matplotlib.image.AxesImage at 0x24817b12f00>"
      ]
     },
     "execution_count": 5,
     "metadata": {},
     "output_type": "execute_result"
    },
    {
     "data": {
      "image/png": "[encoded data removed]",
      "text/plain": [
       "<Figure size 640x480 with 1 Axes>"
      ]
     },
     "metadata": {},
     "output_type": "display_data"
    }
   ],
   "source": [
    "sample_idx = torch.randint(len(training_data), size=(1,)).item()\n",
    "img, label = training_data[sample_idx]\n",
    "plt.imshow(img.squeeze(), cmap=\"gray\")"
   ]
  },
  {
   "cell_type": "code",
   "execution_count": 6,
   "metadata": {},
   "outputs": [
    {
     "name": "stdout",
     "output_type": "stream",
     "text": [
      "Prediction:  tensor([8])\n",
      "Actual:  5\n"
     ]
    }
   ],
   "source": [
    "model = MnistClassifier().to(device)\n",
    "\n",
    "output = model(img)\n",
    "pred_probab = nn.Softmax(dim=1)(output)\n",
    "y_pred = pred_probab.argmax(1)\n",
    "print(\"Prediction: \", y_pred)\n",
    "print(\"Actual: \",label)"
   ]
  },
  {
   "cell_type": "markdown",
   "metadata": {},
   "source": [
    "Trying to add ReLU to introduce non-linearity"
   ]
  },
  {
   "cell_type": "code",
   "execution_count": 7,
   "metadata": {},
   "outputs": [
    {
     "name": "stdout",
     "output_type": "stream",
     "text": [
      "Prediction:  tensor([6])\n",
      "Actual:  5\n"
     ]
    }
   ],
   "source": [
    "non_linear_model = NonLinearClassifier().to(device)\n",
    "\n",
    "output = non_linear_model(img)\n",
    "pred_probab = nn.Softmax(dim=1)(output)\n",
    "y_pred = pred_probab.argmax(1)\n",
    "print(\"Prediction: \", y_pred)\n",
    "print(\"Actual: \",label)"
   ]
  },
  {
   "cell_type": "markdown",
   "metadata": {},
   "source": [
    "Comparing both models for 50 images"
   ]
  },
  {
   "cell_type": "code",
   "execution_count": 8,
   "metadata": {},
   "outputs": [
    {
     "name": "stdout",
     "output_type": "stream",
     "text": [
      "Linear Accuracy:  6\n",
      "Non Linear Accuracy:  5\n"
     ]
    }
   ],
   "source": [
    "linear_accuracy = 0\n",
    "non_linear_accuracy = 0\n",
    "\n",
    "for i in range(0, 50):\n",
    "  sample_idx = torch.randint(len(training_data), size=(1,)).item()\n",
    "  img, label = training_data[sample_idx]\n",
    "  output = model(img)\n",
    "  pred_probab = nn.Softmax(dim=1)(output)\n",
    "  y_pred = pred_probab.argmax(1)\n",
    "  if y_pred == label:\n",
    "    linear_accuracy += 1\n",
    "\n",
    "  output = non_linear_model(img)\n",
    "  pred_probab = nn.Softmax(dim=1)(output)\n",
    "  y_pred = pred_probab.argmax(1)\n",
    "  if y_pred == label:\n",
    "    non_linear_accuracy += 1\n",
    "\n",
    "print(\"Linear Accuracy: \", linear_accuracy)\n",
    "print(\"Non Linear Accuracy: \", non_linear_accuracy)"
   ]
  },
  {
   "cell_type": "code",
   "execution_count": 9,
   "metadata": {},
   "outputs": [],
   "source": [
    "optimizer = torch.optim.SGD(model.parameters(), lr=0.001)\n",
    "loss_fn = nn.CrossEntropyLoss()"
   ]
  },
  {
   "cell_type": "code",
   "execution_count": 10,
   "metadata": {},
   "outputs": [],
   "source": [
    "def train(dataloader, model, loss_fn, optimizer):\n",
    "  size = len(dataloader.dataset)\n",
    "  model.train()\n",
    "  for batch, (X, y) in enumerate(dataloader):\n",
    "    X, y = X.to(device), y.to(device)\n",
    "\n",
    "    # Compute prediction error\n",
    "    pred = model(X)\n",
    "    loss = loss_fn(pred, y)\n",
    "\n",
    "    # Backpropagation\n",
    "    optimizer.zero_grad()\n",
    "    loss.backward()\n",
    "    optimizer.step()\n",
    "\n",
    "    if batch % 100 == 0:\n",
    "      loss, current = loss.item(), batch * len(X)\n",
    "      print(f\"loss: {loss:>7f}  [{current:>5d}/{size:>5d}]\")    \n",
    "    "
   ]
  },
  {
   "cell_type": "code",
   "execution_count": 11,
   "metadata": {},
   "outputs": [],
   "source": [
    "def test(dataloader, model, loss_fn):\n",
    "  size = len(dataloader.dataset)\n",
    "  num_batches = len(dataloader)\n",
    "  model.eval()\n",
    "  test_loss, correct = 0, 0\n",
    "  with torch.no_grad():\n",
    "    for X, y in dataloader:\n",
    "      X, y = X.to(device), y.to(device)\n",
    "      pred = model(X)\n",
    "      test_loss += loss_fn(pred, y).item()\n",
    "      correct += (pred.argmax(1) == y).type(torch.float).sum().item()\n",
    "  test_loss /= num_batches\n",
    "  correct /= size\n",
    "  print(f\"Test Error: \\n Accuracy: {(100*correct):>0.1f}%, Avg loss: {test_loss:>8f} \\n\")"
   ]
  },
  {
   "cell_type": "code",
   "execution_count": 12,
   "metadata": {},
   "outputs": [
    {
     "name": "stdout",
     "output_type": "stream",
     "text": [
      "Epoch 1\n",
      "-------------------------------\n",
      "loss: 2.308445  [    0/60000]\n",
      "loss: 2.311530  [ 6400/60000]\n",
      "loss: 2.266015  [12800/60000]\n",
      "loss: 2.265328  [19200/60000]\n",
      "loss: 2.258112  [25600/60000]\n",
      "loss: 2.231327  [32000/60000]\n",
      "loss: 2.222828  [38400/60000]\n",
      "loss: 2.212873  [44800/60000]\n",
      "loss: 2.187019  [51200/60000]\n",
      "loss: 2.190948  [57600/60000]\n",
      "Test Error: \n",
      " Accuracy: 46.7%, Avg loss: 2.168646 \n",
      "\n",
      "Epoch 2\n",
      "-------------------------------\n",
      "loss: 2.172957  [    0/60000]\n",
      "loss: 2.170202  [ 6400/60000]\n",
      "loss: 2.135433  [12800/60000]\n",
      "loss: 2.134197  [19200/60000]\n",
      "loss: 2.078261  [25600/60000]\n",
      "loss: 2.113196  [32000/60000]\n",
      "loss: 2.068382  [38400/60000]\n",
      "loss: 2.039151  [44800/60000]\n",
      "loss: 1.996544  [51200/60000]\n",
      "loss: 2.056451  [57600/60000]\n",
      "Test Error: \n",
      " Accuracy: 61.6%, Avg loss: 1.986251 \n",
      "\n",
      "Epoch 3\n",
      "-------------------------------\n",
      "loss: 1.954653  [    0/60000]\n",
      "loss: 1.924805  [ 6400/60000]\n",
      "loss: 1.884051  [12800/60000]\n",
      "loss: 1.868281  [19200/60000]\n",
      "loss: 1.891182  [25600/60000]\n",
      "loss: 1.800038  [32000/60000]\n",
      "loss: 1.810908  [38400/60000]\n",
      "loss: 1.766619  [44800/60000]\n",
      "loss: 1.766210  [51200/60000]\n",
      "loss: 1.670674  [57600/60000]\n",
      "Test Error: \n",
      " Accuracy: 62.3%, Avg loss: 1.716141 \n",
      "\n",
      "Epoch 4\n",
      "-------------------------------\n",
      "loss: 1.791169  [    0/60000]\n",
      "loss: 1.754219  [ 6400/60000]\n",
      "loss: 1.653799  [12800/60000]\n",
      "loss: 1.650711  [19200/60000]\n",
      "loss: 1.586499  [25600/60000]\n",
      "loss: 1.478100  [32000/60000]\n",
      "loss: 1.604575  [38400/60000]\n",
      "loss: 1.493382  [44800/60000]\n",
      "loss: 1.394432  [51200/60000]\n",
      "loss: 1.474494  [57600/60000]\n",
      "Test Error: \n",
      " Accuracy: 63.9%, Avg loss: 1.419152 \n",
      "\n",
      "Epoch 5\n",
      "-------------------------------\n",
      "loss: 1.490835  [    0/60000]\n",
      "loss: 1.414503  [ 6400/60000]\n",
      "loss: 1.505684  [12800/60000]\n",
      "loss: 1.259989  [19200/60000]\n",
      "loss: 1.303068  [25600/60000]\n",
      "loss: 1.208047  [32000/60000]\n",
      "loss: 1.154740  [38400/60000]\n",
      "loss: 1.250073  [44800/60000]\n",
      "loss: 1.137058  [51200/60000]\n",
      "loss: 1.293978  [57600/60000]\n",
      "Test Error: \n",
      " Accuracy: 69.3%, Avg loss: 1.166747 \n",
      "\n",
      "Done!\n"
     ]
    }
   ],
   "source": [
    "epochs = 5\n",
    "for t in range(epochs):\n",
    "  print(f\"Epoch {t+1}\\n-------------------------------\")\n",
    "  train(training_loader, model, loss_fn, optimizer)\n",
    "  test(testing_loader, model, loss_fn)\n",
    "print(\"Done!\")"
   ]
  },
  {
   "cell_type": "markdown",
   "metadata": {},
   "source": []
  }
 ],
 "metadata": {
  "kernelspec": {
   "display_name": "mnist",
   "language": "python",
   "name": "python3"
  },
  "language_info": {
   "codemirror_mode": {
    "name": "ipython",
    "version": 3
   },
   "file_extension": ".py",
   "mimetype": "text/x-python",
   "name": "python",
   "nbconvert_exporter": "python",
   "pygments_lexer": "ipython3",
   "version": "3.12.3"
  }
 },
 "nbformat": 4,
 "nbformat_minor": 2
}
