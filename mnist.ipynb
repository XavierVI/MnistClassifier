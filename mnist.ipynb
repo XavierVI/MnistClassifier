{
 "cells": [
  {
   "cell_type": "code",
   "execution_count": 16,
   "metadata": {},
   "outputs": [],
   "source": [
    "import torch\n",
    "from torch import nn\n",
    "import torchvision.datasets as datasets \n",
    "from torchvision.transforms import ToTensor\n",
    "from torch.utils.data import DataLoader\n",
    "\n",
    "import matplotlib.pyplot as plt\n",
    "\n",
    "from model import *"
   ]
  },
  {
   "cell_type": "markdown",
   "metadata": {},
   "source": [
    "Download/loading the dataset"
   ]
  },
  {
   "cell_type": "code",
   "execution_count": 17,
   "metadata": {},
   "outputs": [],
   "source": [
    "training_data = datasets.MNIST(root='data', download=True, train=True, transform=ToTensor())\n",
    "testing_data = datasets.MNIST(root='data', download=True, train=False, transform=ToTensor())\n",
    "\n",
    "training_loader = DataLoader(training_data, batch_size=64, shuffle=True)\n",
    "testing_loader = DataLoader(testing_data, batch_size=64, shuffle=True)"
   ]
  },
  {
   "cell_type": "markdown",
   "metadata": {},
   "source": [
    "Displaying a few sample images"
   ]
  },
  {
   "cell_type": "code",
   "execution_count": 18,
   "metadata": {},
   "outputs": [
    {
     "data": {
      "image/png": "[encoded data removed]",
      "text/plain": [
       "<Figure size 800x800 with 9 Axes>"
      ]
     },
     "metadata": {},
     "output_type": "display_data"
    }
   ],
   "source": [
    "figure = plt.figure(figsize = (8,8))\n",
    "rows, cols = 3, 3\n",
    "\n",
    "for i in range(1, cols*rows+1):\n",
    "  sample_idx = torch.randint(len(training_data), size=(1,)).item()\n",
    "  img, label = training_data[sample_idx]\n",
    "  figure.add_subplot(rows, cols, i)\n",
    "  plt.title(label)\n",
    "  plt.axis(\"off\")\n",
    "  plt.imshow(img.squeeze(), cmap=\"gray\")"
   ]
  },
  {
   "cell_type": "markdown",
   "metadata": {},
   "source": [
    "## Training the neural network"
   ]
  },
  {
   "cell_type": "code",
   "execution_count": 19,
   "metadata": {},
   "outputs": [],
   "source": [
    "device = (    \n",
    "    \"cuda\"\n",
    "    if torch.cuda.is_available()\n",
    "    else \"mps\"\n",
    "    if torch.backends.mps.is_available()\n",
    "    else \"cpu\"\n",
    "  )"
   ]
  },
  {
   "cell_type": "markdown",
   "metadata": {},
   "source": [
    "Getting a random sample and making a prediction before training"
   ]
  },
  {
   "cell_type": "code",
   "execution_count": 20,
   "metadata": {},
   "outputs": [
    {
     "data": {
      "text/plain": [
       "<matplotlib.image.AxesImage at 0x24818a760f0>"
      ]
     },
     "execution_count": 20,
     "metadata": {},
     "output_type": "execute_result"
    },
    {
     "data": {
      "image/png": "[encoded data removed]",
      "text/plain": [
       "<Figure size 640x480 with 1 Axes>"
      ]
     },
     "metadata": {},
     "output_type": "display_data"
    }
   ],
   "source": [
    "sample_idx = torch.randint(len(training_data), size=(1,)).item()\n",
    "img, label = training_data[sample_idx]\n",
    "plt.imshow(img.squeeze(), cmap=\"gray\")"
   ]
  },
  {
   "cell_type": "code",
   "execution_count": 21,
   "metadata": {},
   "outputs": [
    {
     "name": "stdout",
     "output_type": "stream",
     "text": [
      "Prediction:  tensor([3])\n",
      "Actual:  3\n"
     ]
    }
   ],
   "source": [
    "model = MnistClassifier().to(device)\n",
    "\n",
    "output = model(img)\n",
    "pred_probab = nn.Softmax(dim=1)(output)\n",
    "y_pred = pred_probab.argmax(1)\n",
    "print(\"Prediction: \", y_pred)\n",
    "print(\"Actual: \",label)"
   ]
  },
  {
   "cell_type": "markdown",
   "metadata": {},
   "source": [
    "Trying to add ReLU to introduce non-linearity"
   ]
  },
  {
   "cell_type": "code",
   "execution_count": 22,
   "metadata": {},
   "outputs": [
    {
     "name": "stdout",
     "output_type": "stream",
     "text": [
      "Prediction:  tensor([8])\n",
      "Actual:  3\n"
     ]
    }
   ],
   "source": [
    "non_linear_model = NonLinearClassifier().to(device)\n",
    "\n",
    "output = non_linear_model(img)\n",
    "pred_probab = nn.Softmax(dim=1)(output)\n",
    "y_pred = pred_probab.argmax(1)\n",
    "print(\"Prediction: \", y_pred)\n",
    "print(\"Actual: \",label)"
   ]
  },
  {
   "cell_type": "markdown",
   "metadata": {},
   "source": [
    "Comparing both models for 50 images"
   ]
  },
  {
   "cell_type": "code",
   "execution_count": 23,
   "metadata": {},
   "outputs": [
    {
     "name": "stdout",
     "output_type": "stream",
     "text": [
      "Linear Accuracy:  5\n",
      "Non Linear Accuracy:  5\n"
     ]
    }
   ],
   "source": [
    "linear_accuracy = 0\n",
    "non_linear_accuracy = 0\n",
    "\n",
    "for i in range(0, 50):\n",
    "  sample_idx = torch.randint(len(training_data), size=(1,)).item()\n",
    "  img, label = training_data[sample_idx]\n",
    "  output = model(img)\n",
    "  pred_probab = nn.Softmax(dim=1)(output)\n",
    "  y_pred = pred_probab.argmax(1)\n",
    "  if y_pred == label:\n",
    "    linear_accuracy += 1\n",
    "\n",
    "  output = non_linear_model(img)\n",
    "  pred_probab = nn.Softmax(dim=1)(output)\n",
    "  y_pred = pred_probab.argmax(1)\n",
    "  if y_pred == label:\n",
    "    non_linear_accuracy += 1\n",
    "\n",
    "print(\"Linear Accuracy: \", linear_accuracy)\n",
    "print(\"Non Linear Accuracy: \", non_linear_accuracy)"
   ]
  },
  {
   "cell_type": "markdown",
   "metadata": {},
   "source": [
    "## Training and testing functions"
   ]
  },
  {
   "cell_type": "code",
   "execution_count": 24,
   "metadata": {},
   "outputs": [],
   "source": [
    "def train(dataloader, model, loss_fn, optimizer):\n",
    "  size = len(dataloader.dataset)\n",
    "  model.train()\n",
    "  for batch, (X, y) in enumerate(dataloader):\n",
    "    X, y = X.to(device), y.to(device)\n",
    "\n",
    "    # Compute prediction error\n",
    "    pred = model(X)\n",
    "    loss = loss_fn(pred, y)\n",
    "\n",
    "    # Backpropagation\n",
    "    optimizer.zero_grad()\n",
    "    loss.backward()\n",
    "    optimizer.step()\n",
    "\n",
    "    if batch % 100 == 0:\n",
    "      loss, current = loss.item(), batch * len(X)\n",
    "      print(f\"loss: {loss:>7f}  [{current:>5d}/{size:>5d}]\")    \n",
    "    "
   ]
  },
  {
   "cell_type": "code",
   "execution_count": 25,
   "metadata": {},
   "outputs": [],
   "source": [
    "def test(dataloader, model, loss_fn):\n",
    "  size = len(dataloader.dataset)\n",
    "  num_batches = len(dataloader)\n",
    "  model.eval()\n",
    "  test_loss, correct = 0, 0\n",
    "  with torch.no_grad():\n",
    "    for X, y in dataloader:\n",
    "      X, y = X.to(device), y.to(device)\n",
    "      pred = model(X)\n",
    "      test_loss += loss_fn(pred, y).item()\n",
    "      correct += (pred.argmax(1) == y).type(torch.float).sum().item()\n",
    "  test_loss /= num_batches\n",
    "  correct /= size\n",
    "  print(f\"Test Error: \\n Accuracy: {(100*correct):>0.1f}%, Avg loss: {test_loss:>8f} \\n\")"
   ]
  },
  {
   "cell_type": "markdown",
   "metadata": {},
   "source": [
    "## Training loop (linear model)\n",
    "\n",
    "#### Notes\n",
    "Setting the learning rate to 0.002 cause the accuracy to reach 62% on the first epoch, 82% on the fifth epoch."
   ]
  },
  {
   "cell_type": "code",
   "execution_count": null,
   "metadata": {},
   "outputs": [],
   "source": [
    "# Linear model\n",
    "optimizer = torch.optim.SGD(model.parameters(), lr=0.002)\n",
    "loss_fn = nn.CrossEntropyLoss()\n",
    "\n",
    "epochs = 5\n",
    "for t in range(epochs):\n",
    "  print(f\"Epoch {t+1}\\n-------------------------------\")\n",
    "  train(training_loader, model, loss_fn, optimizer)\n",
    "  test(testing_loader, model, loss_fn)\n",
    "print(\"Done!\")\n",
    "\n",
    "# torch.save(model.state_dict(), \"model.pth\")\n",
    "# print(\"Saved PyTorch Model State to model.pth\")"
   ]
  },
  {
   "cell_type": "markdown",
   "metadata": {},
   "source": [
    "## Training loop (non-linear model)\n",
    "\n",
    "#### Notes\n",
    "Doesn't reach good accuracy on the first epoch (learning rate = 0.002)."
   ]
  },
  {
   "cell_type": "code",
   "execution_count": 28,
   "metadata": {},
   "outputs": [
    {
     "name": "stdout",
     "output_type": "stream",
     "text": [
      "Epoch 1\n",
      "-------------------------------\n",
      "loss: 2.289675  [    0/60000]\n",
      "loss: 2.293864  [ 6400/60000]\n",
      "loss: 2.298559  [12800/60000]\n",
      "loss: 2.293023  [19200/60000]\n",
      "loss: 2.297450  [25600/60000]\n",
      "loss: 2.297100  [32000/60000]\n",
      "loss: 2.296696  [38400/60000]\n",
      "loss: 2.291546  [44800/60000]\n",
      "loss: 2.293052  [51200/60000]\n",
      "loss: 2.311694  [57600/60000]\n",
      "Test Error: \n",
      " Accuracy: 9.9%, Avg loss: 2.298219 \n",
      "\n",
      "Epoch 2\n",
      "-------------------------------\n",
      "loss: 2.298579  [    0/60000]\n",
      "loss: 2.299456  [ 6400/60000]\n",
      "loss: 2.302307  [12800/60000]\n",
      "loss: 2.293270  [19200/60000]\n",
      "loss: 2.309104  [25600/60000]\n",
      "loss: 2.312038  [32000/60000]\n",
      "loss: 2.295582  [38400/60000]\n",
      "loss: 2.281381  [44800/60000]\n",
      "loss: 2.283839  [51200/60000]\n",
      "loss: 2.308937  [57600/60000]\n",
      "Test Error: \n",
      " Accuracy: 9.9%, Avg loss: 2.298202 \n",
      "\n",
      "Epoch 3\n",
      "-------------------------------\n",
      "loss: 2.293294  [    0/60000]\n",
      "loss: 2.310031  [ 6400/60000]\n",
      "loss: 2.291424  [12800/60000]\n",
      "loss: 2.290372  [19200/60000]\n",
      "loss: 2.305822  [25600/60000]\n",
      "loss: 2.303496  [32000/60000]\n",
      "loss: 2.302854  [38400/60000]\n",
      "loss: 2.295781  [44800/60000]\n",
      "loss: 2.305550  [51200/60000]\n",
      "loss: 2.298952  [57600/60000]\n",
      "Test Error: \n",
      " Accuracy: 9.9%, Avg loss: 2.298262 \n",
      "\n",
      "Epoch 4\n",
      "-------------------------------\n",
      "loss: 2.302283  [    0/60000]\n",
      "loss: 2.302314  [ 6400/60000]\n",
      "loss: 2.300410  [12800/60000]\n",
      "loss: 2.306813  [19200/60000]\n",
      "loss: 2.293297  [25600/60000]\n",
      "loss: 2.298415  [32000/60000]\n",
      "loss: 2.294479  [38400/60000]\n",
      "loss: 2.289375  [44800/60000]\n",
      "loss: 2.290781  [51200/60000]\n",
      "loss: 2.295480  [57600/60000]\n",
      "Test Error: \n",
      " Accuracy: 9.9%, Avg loss: 2.298193 \n",
      "\n",
      "Epoch 5\n",
      "-------------------------------\n",
      "loss: 2.301435  [    0/60000]\n",
      "loss: 2.298900  [ 6400/60000]\n",
      "loss: 2.299343  [12800/60000]\n",
      "loss: 2.290729  [19200/60000]\n",
      "loss: 2.306124  [25600/60000]\n",
      "loss: 2.305795  [32000/60000]\n",
      "loss: 2.301514  [38400/60000]\n",
      "loss: 2.296089  [44800/60000]\n",
      "loss: 2.311964  [51200/60000]\n",
      "loss: 2.290562  [57600/60000]\n",
      "Test Error: \n",
      " Accuracy: 9.9%, Avg loss: 2.298282 \n",
      "\n",
      "Done!\n"
     ]
    }
   ],
   "source": [
    "# non-linear model\n",
    "optimizer = torch.optim.SGD(model.parameters(), lr=0.002)\n",
    "loss_fn = nn.CrossEntropyLoss()\n",
    "\n",
    "epochs = 5\n",
    "for t in range(epochs):\n",
    "  print(f\"Epoch {t+1}\\n-------------------------------\")\n",
    "  train(training_loader, non_linear_model, loss_fn, optimizer)\n",
    "  test(testing_loader, non_linear_model, loss_fn)\n",
    "print(\"Done!\")"
   ]
  }
 ],
 "metadata": {
  "kernelspec": {
   "display_name": "mnist",
   "language": "python",
   "name": "python3"
  },
  "language_info": {
   "codemirror_mode": {
    "name": "ipython",
    "version": 3
   },
   "file_extension": ".py",
   "mimetype": "text/x-python",
   "name": "python",
   "nbconvert_exporter": "python",
   "pygments_lexer": "ipython3",
   "version": "3.12.3"
  }
 },
 "nbformat": 4,
 "nbformat_minor": 2
}
