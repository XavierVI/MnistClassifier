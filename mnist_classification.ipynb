{
 "cells": [
  {
   "cell_type": "code",
   "execution_count": 1,
   "metadata": {},
   "outputs": [],
   "source": [
    "import torch\n",
    "from torch import nn\n",
    "import torchvision.datasets as datasets \n",
    "from torchvision.transforms import ToTensor\n",
    "from torch.utils.data import DataLoader\n",
    "\n",
    "from models import *\n",
    "\n",
    "import matplotlib.pyplot as plt"
   ]
  },
  {
   "cell_type": "markdown",
   "metadata": {},
   "source": [
    "Loading the dataset"
   ]
  },
  {
   "cell_type": "code",
   "execution_count": 2,
   "metadata": {},
   "outputs": [],
   "source": [
    "testing_data = datasets.MNIST(root='datasets', download=True, train=False, transform=ToTensor())"
   ]
  },
  {
   "cell_type": "markdown",
   "metadata": {},
   "source": [
    "Displaying a few sample images"
   ]
  },
  {
   "cell_type": "code",
   "execution_count": 3,
   "metadata": {},
   "outputs": [
    {
     "data": {
      "image/png": "[encoded data removed]",
      "text/plain": [
       "<Figure size 800x800 with 9 Axes>"
      ]
     },
     "metadata": {},
     "output_type": "display_data"
    }
   ],
   "source": [
    "figure = plt.figure(figsize = (8,8))\n",
    "rows, cols = 3, 3\n",
    "sample_indices = []\n",
    "\n",
    "for i in range(1, cols*rows+1):\n",
    "  sample_idx = torch.randint(len(testing_data), size=(1,)).item()\n",
    "  sample_indices.append(sample_idx)\n",
    "  img, label = testing_data[sample_idx]\n",
    "  figure.add_subplot(rows, cols, i)\n",
    "  plt.title(label)\n",
    "  plt.axis(\"off\")\n",
    "  plt.imshow(img.squeeze(), cmap=\"gray\")"
   ]
  },
  {
   "cell_type": "markdown",
   "metadata": {},
   "source": [
    "Making a prediction"
   ]
  },
  {
   "cell_type": "code",
   "execution_count": 4,
   "metadata": {},
   "outputs": [
    {
     "name": "stdout",
     "output_type": "stream",
     "text": [
      "tensor([1], device='cuda:0')\n",
      "tensor([8], device='cuda:0')\n",
      "tensor([3], device='cuda:0')\n",
      "tensor([8], device='cuda:0')\n",
      "tensor([9], device='cuda:0')\n",
      "tensor([6], device='cuda:0')\n",
      "tensor([0], device='cuda:0')\n",
      "tensor([0], device='cuda:0')\n",
      "tensor([0], device='cuda:0')\n"
     ]
    }
   ],
   "source": [
    "model_state_dict = torch.load('models/LinearNetwork/model.pth')\n",
    "\n",
    "model = LinearNetwork()\n",
    "model = model.cuda()\n",
    "model.load_state_dict(model_state_dict)\n",
    "predictions = []\n",
    "\n",
    "for sample_idx in sample_indices:\n",
    "\timg, label = testing_data[sample_idx]\n",
    "\tprediction = model(img.to('cuda')).argmax(1)\n",
    "\tpredictions.append(prediction)\n",
    "\n",
    "for value in predictions:\n",
    "\tprint(value)"
   ]
  },
  {
   "cell_type": "code",
   "execution_count": 5,
   "metadata": {},
   "outputs": [
    {
     "name": "stdout",
     "output_type": "stream",
     "text": [
      "tensor(1, device='cuda:0')\n",
      "tensor(8, device='cuda:0')\n",
      "tensor(3, device='cuda:0')\n",
      "tensor(8, device='cuda:0')\n",
      "tensor(9, device='cuda:0')\n",
      "tensor(6, device='cuda:0')\n",
      "tensor(0, device='cuda:0')\n",
      "tensor(0, device='cuda:0')\n",
      "tensor(0, device='cuda:0')\n"
     ]
    }
   ],
   "source": [
    "model_state_dict = torch.load('models/ConvolutionalNetwork/model.pth')\n",
    "\n",
    "model = ConvolutionalNetwork()\n",
    "model = model.cuda()\n",
    "model.load_state_dict(model_state_dict)\n",
    "predictions = []\n",
    "\n",
    "for sample_idx in sample_indices:\n",
    "\timg, label = testing_data[sample_idx]\n",
    "\tprediction = model(img.to('cuda')).argmax(0)\n",
    "\tpredictions.append(prediction)\n",
    "\n",
    "for value in predictions:\n",
    "\tprint(value)"
   ]
  }
 ],
 "metadata": {
  "kernelspec": {
   "display_name": "Python 3 (ipykernel)",
   "language": "python",
   "name": "python3"
  },
  "language_info": {
   "codemirror_mode": {
    "name": "ipython",
    "version": 3
   },
   "file_extension": ".py",
   "mimetype": "text/x-python",
   "name": "python",
   "nbconvert_exporter": "python",
   "pygments_lexer": "ipython3",
   "version": "3.12.3"
  }
 },
 "nbformat": 4,
 "nbformat_minor": 4
}
